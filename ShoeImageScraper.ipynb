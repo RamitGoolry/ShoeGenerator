{
 "cells": [
  {
   "cell_type": "code",
   "execution_count": 11,
   "metadata": {},
   "outputs": [],
   "source": [
    "import selenium\n",
    "from selenium import webdriver\n",
    "from selenium.webdriver import ActionChains\n",
    "from bs4 import BeautifulSoup\n",
    "import time\n",
    "import matplotlib.pyplot as plt\n",
    "from PIL import Image\n",
    "import urllib"
   ]
  },
  {
   "cell_type": "code",
   "execution_count": 25,
   "metadata": {},
   "outputs": [],
   "source": [
    "class StockXSearcher:\n",
    "    def __init__(self):\n",
    "        self.browser = \\\n",
    "            webdriver.Chrome(executable_path=\"/Users/ramitgoolry/Desktop/Programs/chromedriver\")\n",
    "        # Logging in to StockX\n",
    "        self.go('https://stockx.com/login')\n",
    "        \n",
    "        username = self.browser.find_element_by_name('email')\n",
    "        password = self.browser.find_element_by_name('password')\n",
    "        \n",
    "        username.send_keys('ramitgoolry@gmail.com\\n')\n",
    "        password.send_keys('Ramitg@1\\n')\n",
    "        \n",
    "    def go(self, link):\n",
    "        self.browser.get(link)\n",
    "        \n",
    "    def home(self):\n",
    "        self.go(\"https://stockx.com/\")\n",
    "    \n",
    "    def sneakers(self):\n",
    "        self.go('https://stockx.com/sneakers')\n",
    "        \n",
    "    def search(self, product_name):\n",
    "        self.home()\n",
    "        search_box = self.browser.find_element_by_id('home-search')\n",
    "        search_box.send_keys(product_name)\n",
    "        search_box.send_keys('\\n')\n",
    "        \n",
    "        self.scroll_to_bottom()\n",
    "        \n",
    "        time.sleep(5)\n",
    "    \n",
    "        html = self.browser.page_source\n",
    "        soup = BeautifulSoup(html, 'lxml')\n",
    "        \n",
    "        products = soup.find_all('div', class_ ='result-tile')\n",
    "        \n",
    "        for product in products:\n",
    "            print(product.a.get('href'))\n",
    "\n",
    "    \n",
    "    def scroll_to_bottom(self):\n",
    "        for second in range(20):\n",
    "            self.browser.execute_script(\"window.scrollBy(0, 300);\")\n",
    "            time.sleep(1)\n",
    "    \n",
    "    def close(self):\n",
    "        self.browser.close()\n",
    "    \n",
    "    def quit(self):\n",
    "        self.browser.quit()"
   ]
  },
  {
   "cell_type": "code",
   "execution_count": 26,
   "metadata": {
    "scrolled": true
   },
   "outputs": [],
   "source": [
    "s = StockXSearcher()\n",
    "Yeezys = s.sneakers()\n",
    "s.scroll_to_bottom()\n",
    "s.quit()"
   ]
  },
  {
   "cell_type": "code",
   "execution_count": 21,
   "metadata": {},
   "outputs": [],
   "source": [
    "s.quit()"
   ]
  },
  {
   "cell_type": "code",
   "execution_count": null,
   "metadata": {},
   "outputs": [],
   "source": []
  }
 ],
 "metadata": {
  "kernelspec": {
   "display_name": "Python 3",
   "language": "python",
   "name": "python3"
  },
  "language_info": {
   "codemirror_mode": {
    "name": "ipython",
    "version": 3
   },
   "file_extension": ".py",
   "mimetype": "text/x-python",
   "name": "python",
   "nbconvert_exporter": "python",
   "pygments_lexer": "ipython3",
   "version": "3.6.8"
  }
 },
 "nbformat": 4,
 "nbformat_minor": 2
}
