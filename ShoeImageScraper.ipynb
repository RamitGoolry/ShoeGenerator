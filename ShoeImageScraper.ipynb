{
 "cells": [
  {
   "cell_type": "code",
   "execution_count": 40,
   "metadata": {},
   "outputs": [],
   "source": [
    "import selenium\n",
    "from selenium import webdriver\n",
    "from selenium.webdriver import ActionChains\n",
    "from bs4 import BeautifulSoup\n",
    "import time\n",
    "import matplotlib.pyplot as plt\n",
    "from PIL import Image\n",
    "import urllib\n",
    "import re\n",
    "import os\n",
    "import requests\n",
    "from io import BytesIO"
   ]
  },
  {
   "cell_type": "code",
   "execution_count": 76,
   "metadata": {},
   "outputs": [],
   "source": [
    "class StockXSearcher:\n",
    "    def __init__(self):\n",
    "        self.browser = \\\n",
    "            webdriver.Chrome(executable_path=\"/Users/ramitgoolry/Desktop/Programs/chromedriver\")\n",
    "        # Logging in to StockX\n",
    "        self.go('https://stockx.com/login')\n",
    "        \n",
    "        username = self.browser.find_element_by_name('email')\n",
    "        password = self.browser.find_element_by_name('password')\n",
    "        \n",
    "        username.send_keys('ramitgoolry@gmail.com\\n')\n",
    "        password.send_keys('Scraper@1\\n')\n",
    "        \n",
    "    def go(self, link):\n",
    "        self.browser.get(link)\n",
    "        \n",
    "    def home(self):\n",
    "        self.go(\"https://stockx.com/\")\n",
    "    \n",
    "    def sneakers(self):\n",
    "        self.go('https://stockx.com/sneakers')\n",
    "\n",
    "    def scroll_to_bottom(self):\n",
    "        while True:\n",
    "            self.browser.execute_script(\"window.scrollBy(0, 500);\")\n",
    "            time.sleep(.5)\n",
    "            try:\n",
    "                button = self.browser.find_element_by_xpath(\"//button[@class='btn btn-default']\")\n",
    "                button.click()\n",
    "            except Exception:\n",
    "                # Reached end of page, there is no 'Load More Button'\n",
    "                break\n",
    "    \n",
    "    def save_shoe_images(self, folder_path):\n",
    "        soup = BeautifulSoup(self.browser.page_source, 'lxml')\n",
    "        shoe_num = 1\n",
    "        for image in soup.find_all('img', class_=re.compile('LazyImage.*')):\n",
    "            try:\n",
    "                url = image['src']\n",
    "            except TypeError:\n",
    "                print('Nope')\n",
    "                continue\n",
    "            response = requests.get(url)\n",
    "            print(url)\n",
    "            img = Image.open(BytesIO(response.content)).resize((190, 135))\n",
    "            img.save(os.path.join(folder_path, str(shoe_num) + '.png'))\n",
    "            #print(shoe_num)\n",
    "            shoe_num += 1\n",
    "            \n",
    "    def close(self):\n",
    "        self.browser.close()\n",
    "    \n",
    "    def quit(self):\n",
    "        self.browser.quit()"
   ]
  },
  {
   "cell_type": "code",
   "execution_count": 79,
   "metadata": {
    "scrolled": true
   },
   "outputs": [
    {
     "ename": "KeyboardInterrupt",
     "evalue": "",
     "output_type": "error",
     "traceback": [
      "\u001b[0;31m---------------------------------------------------------------------------\u001b[0m",
      "\u001b[0;31mKeyboardInterrupt\u001b[0m                         Traceback (most recent call last)",
      "\u001b[0;32m<ipython-input-79-0c3970eac7b3>\u001b[0m in \u001b[0;36m<module>\u001b[0;34m()\u001b[0m\n\u001b[1;32m      1\u001b[0m \u001b[0ms\u001b[0m \u001b[0;34m=\u001b[0m \u001b[0mStockXSearcher\u001b[0m\u001b[0;34m(\u001b[0m\u001b[0;34m)\u001b[0m\u001b[0;34m\u001b[0m\u001b[0;34m\u001b[0m\u001b[0m\n\u001b[1;32m      2\u001b[0m \u001b[0mYeezys\u001b[0m \u001b[0;34m=\u001b[0m \u001b[0ms\u001b[0m\u001b[0;34m.\u001b[0m\u001b[0msneakers\u001b[0m\u001b[0;34m(\u001b[0m\u001b[0;34m)\u001b[0m\u001b[0;34m\u001b[0m\u001b[0;34m\u001b[0m\u001b[0m\n\u001b[0;32m----> 3\u001b[0;31m \u001b[0ms\u001b[0m\u001b[0;34m.\u001b[0m\u001b[0mscroll_to_bottom\u001b[0m\u001b[0;34m(\u001b[0m\u001b[0;34m)\u001b[0m\u001b[0;34m\u001b[0m\u001b[0;34m\u001b[0m\u001b[0m\n\u001b[0m\u001b[1;32m      4\u001b[0m \u001b[0ms\u001b[0m\u001b[0;34m.\u001b[0m\u001b[0msave_shoe_images\u001b[0m\u001b[0;34m(\u001b[0m\u001b[0;34m'./Shoe Images'\u001b[0m\u001b[0;34m)\u001b[0m\u001b[0;34m\u001b[0m\u001b[0;34m\u001b[0m\u001b[0m\n",
      "\u001b[0;32m<ipython-input-76-6b16859418eb>\u001b[0m in \u001b[0;36mscroll_to_bottom\u001b[0;34m(self)\u001b[0m\n\u001b[1;32m     23\u001b[0m         \u001b[0;32mwhile\u001b[0m \u001b[0;32mTrue\u001b[0m\u001b[0;34m:\u001b[0m\u001b[0;34m\u001b[0m\u001b[0;34m\u001b[0m\u001b[0m\n\u001b[1;32m     24\u001b[0m             \u001b[0mself\u001b[0m\u001b[0;34m.\u001b[0m\u001b[0mbrowser\u001b[0m\u001b[0;34m.\u001b[0m\u001b[0mexecute_script\u001b[0m\u001b[0;34m(\u001b[0m\u001b[0;34m\"window.scrollBy(0, 500);\"\u001b[0m\u001b[0;34m)\u001b[0m\u001b[0;34m\u001b[0m\u001b[0;34m\u001b[0m\u001b[0m\n\u001b[0;32m---> 25\u001b[0;31m             \u001b[0mtime\u001b[0m\u001b[0;34m.\u001b[0m\u001b[0msleep\u001b[0m\u001b[0;34m(\u001b[0m\u001b[0;36m.5\u001b[0m\u001b[0;34m)\u001b[0m\u001b[0;34m\u001b[0m\u001b[0;34m\u001b[0m\u001b[0m\n\u001b[0m\u001b[1;32m     26\u001b[0m             \u001b[0;32mtry\u001b[0m\u001b[0;34m:\u001b[0m\u001b[0;34m\u001b[0m\u001b[0;34m\u001b[0m\u001b[0m\n\u001b[1;32m     27\u001b[0m                 \u001b[0mbutton\u001b[0m \u001b[0;34m=\u001b[0m \u001b[0mself\u001b[0m\u001b[0;34m.\u001b[0m\u001b[0mbrowser\u001b[0m\u001b[0;34m.\u001b[0m\u001b[0mfind_element_by_xpath\u001b[0m\u001b[0;34m(\u001b[0m\u001b[0;34m\"//button[@class='btn btn-default']\"\u001b[0m\u001b[0;34m)\u001b[0m\u001b[0;34m\u001b[0m\u001b[0;34m\u001b[0m\u001b[0m\n",
      "\u001b[0;31mKeyboardInterrupt\u001b[0m: "
     ]
    }
   ],
   "source": [
    "s = StockXSearcher()\n",
    "Yeezys = s.sneakers()\n",
    "s.scroll_to_bottom()\n",
    "s.save_shoe_images('./Shoe Images')"
   ]
  },
  {
   "cell_type": "code",
   "execution_count": 80,
   "metadata": {},
   "outputs": [],
   "source": [
    "s.quit()"
   ]
  },
  {
   "cell_type": "code",
   "execution_count": null,
   "metadata": {},
   "outputs": [],
   "source": []
  }
 ],
 "metadata": {
  "kernelspec": {
   "display_name": "Python 3",
   "language": "python",
   "name": "python3"
  },
  "language_info": {
   "codemirror_mode": {
    "name": "ipython",
    "version": 3
   },
   "file_extension": ".py",
   "mimetype": "text/x-python",
   "name": "python",
   "nbconvert_exporter": "python",
   "pygments_lexer": "ipython3",
   "version": "3.6.8"
  }
 },
 "nbformat": 4,
 "nbformat_minor": 2
}
